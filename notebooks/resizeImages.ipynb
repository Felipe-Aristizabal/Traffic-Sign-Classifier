{
 "cells": [
  {
   "cell_type": "markdown",
   "metadata": {},
   "source": [
    "# ✨ Rezise images to 32x32"
   ]
  },
  {
   "cell_type": "markdown",
   "metadata": {},
   "source": [
    "READ \"classifier\" folder and generate resized images in \"classifier_resized\" folder."
   ]
  },
  {
   "cell_type": "markdown",
   "metadata": {},
   "source": [
    "## 🔮 Imports"
   ]
  },
  {
   "cell_type": "code",
   "execution_count": 1,
   "metadata": {},
   "outputs": [],
   "source": [
    "import os\n",
    "import cv2\n",
    "import numpy as np\n",
    "import tensorflow as tf\n",
    "import matplotlib.pyplot as plt"
   ]
  },
  {
   "cell_type": "markdown",
   "metadata": {},
   "source": [
    "## ⚙ Configure paths"
   ]
  },
  {
   "cell_type": "code",
   "execution_count": 2,
   "metadata": {},
   "outputs": [
    {
     "name": "stdout",
     "output_type": "stream",
     "text": [
      "c:\\Users\\USER\\Desktop\\PDI\\Traffic-Sign-Classifier\n"
     ]
    }
   ],
   "source": [
    "# Obtenemos la dirección actual del path donde se está ejecutando el Jupyter Notebook\n",
    "os.chdir(\"..\")\n",
    "main_directory = os.getcwd()\n",
    "print(main_directory)"
   ]
  },
  {
   "cell_type": "markdown",
   "metadata": {},
   "source": [
    "## 🎯 Create resize function"
   ]
  },
  {
   "cell_type": "code",
   "execution_count": 20,
   "metadata": {},
   "outputs": [],
   "source": [
    "# Itera sobre las carpetas dentro del directorio principal\n",
    "def resize_folder_images(size, folder, output_name,):\n",
    "    output_folder = f\"{main_directory}/classifier_resized/{folder}/\"\n",
    "    loop_through_folder = f\"{main_directory}/classifier/{folder}/\"\n",
    "    print(output_folder)\n",
    "    i = 1\n",
    "    for file in os.listdir(loop_through_folder):\n",
    "        archivo_path = os.path.join(loop_through_folder, file)\n",
    "        # Lee la imagen con OpenCV \n",
    "        image = cv2.imread(archivo_path)\n",
    "        resized_img = cv2.resize(image, size)\n",
    "\n",
    "        ouput_path = f\"{output_folder}{output_name}-{i}.jpg\"\n",
    "        # Guardamos la imagen en la carpeta especificada\n",
    "        cv2.imwrite(ouput_path, resized_img)\n",
    "        i +=1"
   ]
  },
  {
   "cell_type": "markdown",
   "metadata": {},
   "source": [
    "## 💪🏾 Test resize function"
   ]
  },
  {
   "cell_type": "code",
   "execution_count": 21,
   "metadata": {},
   "outputs": [
    {
     "name": "stdout",
     "output_type": "stream",
     "text": [
      "c:\\Users\\USER\\Desktop\\PDI\\TRAFFIC-SIGN-CLASSIFIER/classifier_resized/speeds/\n"
     ]
    }
   ],
   "source": [
    "resize_folder_images((150, 150), \"speeds\", \"speed\")"
   ]
  },
  {
   "cell_type": "code",
   "execution_count": 22,
   "metadata": {},
   "outputs": [
    {
     "name": "stdout",
     "output_type": "stream",
     "text": [
      "c:\\Users\\USER\\Desktop\\PDI\\TRAFFIC-SIGN-CLASSIFIER/classifier_resized/stops/\n"
     ]
    }
   ],
   "source": [
    "resize_folder_images((150, 150), \"stops\", \"stop\")"
   ]
  },
  {
   "cell_type": "code",
   "execution_count": 23,
   "metadata": {},
   "outputs": [
    {
     "name": "stdout",
     "output_type": "stream",
     "text": [
      "c:\\Users\\USER\\Desktop\\PDI\\TRAFFIC-SIGN-CLASSIFIER/classifier_resized/trafficLights/\n"
     ]
    }
   ],
   "source": [
    "resize_folder_images((150, 150), \"trafficLights\", \"trafficLight\")"
   ]
  }
 ],
 "metadata": {
  "kernelspec": {
   "display_name": "PDI",
   "language": "python",
   "name": "python3"
  },
  "language_info": {
   "codemirror_mode": {
    "name": "ipython",
    "version": 3
   },
   "file_extension": ".py",
   "mimetype": "text/x-python",
   "name": "python",
   "nbconvert_exporter": "python",
   "pygments_lexer": "ipython3",
   "version": "3.7.16"
  }
 },
 "nbformat": 4,
 "nbformat_minor": 2
}
