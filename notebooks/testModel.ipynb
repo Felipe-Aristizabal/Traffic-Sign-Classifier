{
 "cells": [
  {
   "cell_type": "code",
   "execution_count": 1,
   "metadata": {},
   "outputs": [],
   "source": [
    "import tensorflow as tf\n",
    "from tensorflow.keras.models import Sequential, load_model, save_model\n",
    "import os"
   ]
  },
  {
   "cell_type": "code",
   "execution_count": 2,
   "metadata": {},
   "outputs": [
    {
     "data": {
      "text/plain": [
       "'e:\\\\Traffic-Sign-Classifier\\\\notebooks'"
      ]
     },
     "execution_count": 2,
     "metadata": {},
     "output_type": "execute_result"
    }
   ],
   "source": [
    "os.getcwd()"
   ]
  },
  {
   "cell_type": "code",
   "execution_count": 2,
   "metadata": {},
   "outputs": [
    {
     "name": "stdout",
     "output_type": "stream",
     "text": [
      "e:\\Traffic-Sign-Classifier\\app\\models\n"
     ]
    }
   ],
   "source": [
    "os.chdir(\"../app/models\")\n",
    "print(os.getcwd())"
   ]
  },
  {
   "cell_type": "code",
   "execution_count": 4,
   "metadata": {},
   "outputs": [],
   "source": [
    "model = load_model('first-model.h5')"
   ]
  },
  {
   "cell_type": "code",
   "execution_count": 5,
   "metadata": {},
   "outputs": [
    {
     "name": "stdout",
     "output_type": "stream",
     "text": [
      "Model: \"sequential_10\"\n",
      "_________________________________________________________________\n",
      " Layer (type)                Output Shape              Param #   \n",
      "=================================================================\n",
      " conv2d_60 (Conv2D)          (None, 146, 146, 8)       608       \n",
      "                                                                 \n",
      " conv2d_61 (Conv2D)          (None, 142, 142, 8)       1608      \n",
      "                                                                 \n",
      " max_pooling2d_30 (MaxPooli  (None, 71, 71, 8)         0         \n",
      " ng2D)                                                           \n",
      "                                                                 \n",
      " dropout_24 (Dropout)        (None, 71, 71, 8)         0         \n",
      "                                                                 \n",
      " conv2d_62 (Conv2D)          (None, 67, 67, 16)        3216      \n",
      "                                                                 \n",
      " conv2d_63 (Conv2D)          (None, 63, 63, 16)        6416      \n",
      "                                                                 \n",
      " max_pooling2d_31 (MaxPooli  (None, 31, 31, 16)        0         \n",
      " ng2D)                                                           \n",
      "                                                                 \n",
      " dropout_25 (Dropout)        (None, 31, 31, 16)        0         \n",
      "                                                                 \n",
      " conv2d_64 (Conv2D)          (None, 29, 29, 32)        4640      \n",
      "                                                                 \n",
      " conv2d_65 (Conv2D)          (None, 27, 27, 32)        9248      \n",
      "                                                                 \n",
      " max_pooling2d_32 (MaxPooli  (None, 13, 13, 32)        0         \n",
      " ng2D)                                                           \n",
      "                                                                 \n",
      " dropout_26 (Dropout)        (None, 13, 13, 32)        0         \n",
      "                                                                 \n",
      " flatten_9 (Flatten)         (None, 5408)              0         \n",
      "                                                                 \n",
      " dense_18 (Dense)            (None, 150)               811350    \n",
      "                                                                 \n",
      " dropout_27 (Dropout)        (None, 150)               0         \n",
      "                                                                 \n",
      " dense_19 (Dense)            (None, 3)                 453       \n",
      "                                                                 \n",
      "=================================================================\n",
      "Total params: 837539 (3.19 MB)\n",
      "Trainable params: 837539 (3.19 MB)\n",
      "Non-trainable params: 0 (0.00 Byte)\n",
      "_________________________________________________________________\n"
     ]
    }
   ],
   "source": [
    "model.summary()"
   ]
  }
 ],
 "metadata": {
  "kernelspec": {
   "display_name": "PDI",
   "language": "python",
   "name": "python3"
  },
  "language_info": {
   "codemirror_mode": {
    "name": "ipython",
    "version": 3
   },
   "file_extension": ".py",
   "mimetype": "text/x-python",
   "name": "python",
   "nbconvert_exporter": "python",
   "pygments_lexer": "ipython3",
   "version": "3.11.5"
  }
 },
 "nbformat": 4,
 "nbformat_minor": 2
}
