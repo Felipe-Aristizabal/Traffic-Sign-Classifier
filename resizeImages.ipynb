{
 "cells": [
  {
   "cell_type": "markdown",
   "metadata": {},
   "source": [
    "# ✨ Rezise images to 32x32"
   ]
  },
  {
   "cell_type": "markdown",
   "metadata": {},
   "source": [
    "READ \"clasificador\" folder and generate resized images in \"test\" folder."
   ]
  },
  {
   "cell_type": "markdown",
   "metadata": {},
   "source": [
    "## 🔮 Imports"
   ]
  },
  {
   "cell_type": "code",
   "execution_count": 1,
   "metadata": {},
   "outputs": [],
   "source": [
    "import os\n",
    "import cv2\n",
    "import numpy as np\n",
    "import tensorflow as tf\n",
    "import matplotlib.pyplot as plt"
   ]
  },
  {
   "cell_type": "markdown",
   "metadata": {},
   "source": [
    "## ⚙ Configure paths"
   ]
  },
  {
   "cell_type": "code",
   "execution_count": 2,
   "metadata": {},
   "outputs": [
    {
     "name": "stdout",
     "output_type": "stream",
     "text": [
      "e:\\Traffic-Sign-Classifier\n"
     ]
    }
   ],
   "source": [
    "main_directory = os.getcwd()\n",
    "print(main_directory)\n",
    "\n",
    "# loop_through_folder =f\"{main_directory}/clasificador/pare/\"\n",
    "# carpeta_a_recorrer = os.listdir(f\"{cwd}/clasificador/pare\")\n",
    "# print(loop_through_folder)"
   ]
  },
  {
   "cell_type": "markdown",
   "metadata": {},
   "source": [
    "## 🎯 Create resize function"
   ]
  },
  {
   "cell_type": "code",
   "execution_count": 4,
   "metadata": {},
   "outputs": [],
   "source": [
    "# Itera sobre las carpetas dentro del directorio principal\n",
    "def resize_folder_images(size,folder,output_name,):\n",
    "    output_folder = f\"{main_directory}/test/{folder}/\"\n",
    "    loop_through_folder =f\"{main_directory}/clasificador/{folder}/\"\n",
    "    print(output_folder)\n",
    "    i = 0\n",
    "    for file in os.listdir(loop_through_folder):\n",
    "        archivo_path = os.path.join(loop_through_folder, file)\n",
    "        # Lee la imagen con OpenCV \n",
    "        image = cv2.imread(archivo_path)\n",
    "        resized_img = cv2.resize(image, size)\n",
    "\n",
    "        ouput_path = f\"{output_folder}{output_name}-{i}.jpg\"\n",
    "        # Guardamos la imagen en la carpeta especificada\n",
    "        cv2.imwrite(ouput_path,resized_img)\n",
    "        i +=1"
   ]
  },
  {
   "cell_type": "markdown",
   "metadata": {},
   "source": [
    "## 💪🏾 Test resize function"
   ]
  },
  {
   "cell_type": "code",
   "execution_count": 18,
   "metadata": {},
   "outputs": [
    {
     "name": "stdout",
     "output_type": "stream",
     "text": [
      "e:\\Traffic-Sign-Classifier/test/pare/\n"
     ]
    }
   ],
   "source": [
    "resize_folder_images((32,32),\"pare\",\"pare\")"
   ]
  },
  {
   "cell_type": "code",
   "execution_count": 5,
   "metadata": {},
   "outputs": [
    {
     "name": "stdout",
     "output_type": "stream",
     "text": [
      "e:\\Traffic-Sign-Classifier/test/semaforo/\n"
     ]
    }
   ],
   "source": [
    "resize_folder_images((64,64),\"semaforo\",\"semaforo\")"
   ]
  },
  {
   "cell_type": "code",
   "execution_count": 20,
   "metadata": {},
   "outputs": [
    {
     "name": "stdout",
     "output_type": "stream",
     "text": [
      "e:\\Traffic-Sign-Classifier/test/velocidad/\n"
     ]
    }
   ],
   "source": [
    "resize_folder_images((32,32),\"velocidad\",\"velocidad\")"
   ]
  }
 ],
 "metadata": {
  "kernelspec": {
   "display_name": "PDI",
   "language": "python",
   "name": "python3"
  },
  "language_info": {
   "codemirror_mode": {
    "name": "ipython",
    "version": 3
   },
   "file_extension": ".py",
   "mimetype": "text/x-python",
   "name": "python",
   "nbconvert_exporter": "python",
   "pygments_lexer": "ipython3",
   "version": "3.7.16"
  }
 },
 "nbformat": 4,
 "nbformat_minor": 2
}
